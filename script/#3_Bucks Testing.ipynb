{
 "cells": [
  {
   "cell_type": "code",
   "execution_count": 63,
   "metadata": {},
   "outputs": [],
   "source": [
    "import os\n",
    "import keras\n",
    "import pandas as pd\n",
    "import re\n",
    "import glob\n",
    "import imageio\n",
    "import numpy as np\n",
    "\n",
    "from sklearn.metrics import accuracy_score\n",
    "from keras.preprocessing.image import ImageDataGenerator\n",
    "from keras.layers import Dense, Flatten, Embedding, LSTM\n",
    "from keras.layers import Conv2D, Dense, Dropout, Flatten, MaxPooling2D, BatchNormalization\n",
    "from keras.models import Sequential\n",
    "from keras.optimizers import Adam, RMSprop\n",
    "from IPython.display import Image"
   ]
  },
  {
   "cell_type": "markdown",
   "metadata": {},
   "source": [
    "## Load data"
   ]
  },
  {
   "cell_type": "code",
   "execution_count": 16,
   "metadata": {},
   "outputs": [],
   "source": [
    "test_data = pd.read_csv(\"final_test.csv\")\n",
    "test_data = test_data.iloc[:,1:]"
   ]
  },
  {
   "cell_type": "markdown",
   "metadata": {},
   "source": [
    "## LSTM Testing"
   ]
  },
  {
   "cell_type": "code",
   "execution_count": 17,
   "metadata": {},
   "outputs": [],
   "source": [
    "lyric = [x for x in test_data.lyric]\n",
    "label = [int(x == 'hiphop') for x in test_data.label]"
   ]
  },
  {
   "cell_type": "code",
   "execution_count": 18,
   "metadata": {},
   "outputs": [],
   "source": [
    "tok = keras.preprocessing.text.Tokenizer(lower=False)"
   ]
  },
  {
   "cell_type": "code",
   "execution_count": 19,
   "metadata": {},
   "outputs": [],
   "source": [
    "tok.fit_on_texts(lyric)"
   ]
  },
  {
   "cell_type": "code",
   "execution_count": 12,
   "metadata": {},
   "outputs": [],
   "source": [
    "seq = tok.texts_to_sequences(lyric)"
   ]
  },
  {
   "cell_type": "code",
   "execution_count": 29,
   "metadata": {},
   "outputs": [],
   "source": [
    "MAXLEN = 2752"
   ]
  },
  {
   "cell_type": "code",
   "execution_count": 30,
   "metadata": {
    "scrolled": true
   },
   "outputs": [],
   "source": [
    "pad = keras.preprocessing.sequence.pad_sequences(seq, MAXLEN)"
   ]
  },
  {
   "cell_type": "code",
   "execution_count": 35,
   "metadata": {},
   "outputs": [],
   "source": [
    "NUM_WORDS = 242623"
   ]
  },
  {
   "cell_type": "code",
   "execution_count": 36,
   "metadata": {},
   "outputs": [],
   "source": [
    "model_lstm = Sequential()\n",
    "model_lstm.add(Embedding(input_dim=NUM_WORDS, output_dim=8, input_length=MAXLEN, mask_zero=True))\n",
    "model_lstm.add(LSTM(16, return_sequences=False))\n",
    "model_lstm.add(Dense(2, activation='softmax'))"
   ]
  },
  {
   "cell_type": "code",
   "execution_count": 37,
   "metadata": {},
   "outputs": [],
   "source": [
    "model_lstm.compile(optimizer=Adam(), loss='sparse_categorical_crossentropy', metrics=['accuracy'])"
   ]
  },
  {
   "cell_type": "code",
   "execution_count": 38,
   "metadata": {},
   "outputs": [],
   "source": [
    "model_lstm.load_weights(\"lstm_model.hd5\")"
   ]
  },
  {
   "cell_type": "code",
   "execution_count": 44,
   "metadata": {},
   "outputs": [
    {
     "data": {
      "text/plain": [
       "0.3"
      ]
     },
     "execution_count": 44,
     "metadata": {},
     "output_type": "execute_result"
    }
   ],
   "source": [
    "y_pred = model_lstm.predict_classes(pad)\n",
    "accuracy_score(label, y_pred)"
   ]
  },
  {
   "cell_type": "markdown",
   "metadata": {},
   "source": [
    "#### 생각외로 lstm의 성능이 크게 떨어졌다.\n",
    "\n",
    "#### 이유를 분석해보니 해당 기간에 top100에서 힙합으로 분류된 것은 빡센 힙합이 아닌 발라드 성 힙합을 부른 로꼬, ph-1, 지코, 박재범 등이 포진해있었다.\n",
    "\n",
    "#### 충분히 그럴 수 있다고 판단된다."
   ]
  },
  {
   "cell_type": "code",
   "execution_count": 77,
   "metadata": {
    "scrolled": true
   },
   "outputs": [
    {
     "data": {
      "text/html": [
       "<div>\n",
       "<style scoped>\n",
       "    .dataframe tbody tr th:only-of-type {\n",
       "        vertical-align: middle;\n",
       "    }\n",
       "\n",
       "    .dataframe tbody tr th {\n",
       "        vertical-align: top;\n",
       "    }\n",
       "\n",
       "    .dataframe thead th {\n",
       "        text-align: right;\n",
       "    }\n",
       "</style>\n",
       "<table border=\"1\" class=\"dataframe\">\n",
       "  <thead>\n",
       "    <tr style=\"text-align: right;\">\n",
       "      <th></th>\n",
       "      <th>singer</th>\n",
       "      <th>label</th>\n",
       "    </tr>\n",
       "  </thead>\n",
       "  <tbody>\n",
       "    <tr>\n",
       "      <th>1</th>\n",
       "      <td>로꼬</td>\n",
       "      <td>hiphop</td>\n",
       "    </tr>\n",
       "    <tr>\n",
       "      <th>2</th>\n",
       "      <td>pH-1pH-1</td>\n",
       "      <td>hiphop</td>\n",
       "    </tr>\n",
       "    <tr>\n",
       "      <th>7</th>\n",
       "      <td>CoogieCoogie</td>\n",
       "      <td>hiphop</td>\n",
       "    </tr>\n",
       "    <tr>\n",
       "      <th>18</th>\n",
       "      <td>기리보이기리보이</td>\n",
       "      <td>hiphop</td>\n",
       "    </tr>\n",
       "    <tr>\n",
       "      <th>19</th>\n",
       "      <td>저스디스(JUSTHIS)저스디스(JUSTHIS)</td>\n",
       "      <td>hiphop</td>\n",
       "    </tr>\n",
       "    <tr>\n",
       "      <th>23</th>\n",
       "      <td>HAON(김하온)</td>\n",
       "      <td>hiphop</td>\n",
       "    </tr>\n",
       "    <tr>\n",
       "      <th>24</th>\n",
       "      <td>pH-1</td>\n",
       "      <td>hiphop</td>\n",
       "    </tr>\n",
       "    <tr>\n",
       "      <th>31</th>\n",
       "      <td>김효은김효은</td>\n",
       "      <td>hiphop</td>\n",
       "    </tr>\n",
       "    <tr>\n",
       "      <th>37</th>\n",
       "      <td>나플라(nafla)나플라(nafla)</td>\n",
       "      <td>hiphop</td>\n",
       "    </tr>\n",
       "    <tr>\n",
       "      <th>45</th>\n",
       "      <td>지코(Zico)</td>\n",
       "      <td>hiphop</td>\n",
       "    </tr>\n",
       "  </tbody>\n",
       "</table>\n",
       "</div>"
      ],
      "text/plain": [
       "                        singer   label\n",
       "1                           로꼬  hiphop\n",
       "2                     pH-1pH-1  hiphop\n",
       "7                 CoogieCoogie  hiphop\n",
       "18                    기리보이기리보이  hiphop\n",
       "19  저스디스(JUSTHIS)저스디스(JUSTHIS)  hiphop\n",
       "23                   HAON(김하온)  hiphop\n",
       "24                        pH-1  hiphop\n",
       "31                      김효은김효은  hiphop\n",
       "37        나플라(nafla)나플라(nafla)  hiphop\n",
       "45                    지코(Zico)  hiphop"
      ]
     },
     "execution_count": 77,
     "metadata": {},
     "output_type": "execute_result"
    }
   ],
   "source": [
    "test_data.loc[test_data['label'] == 'hiphop',['singer','label']].head(10)"
   ]
  },
  {
   "cell_type": "markdown",
   "metadata": {},
   "source": [
    "## CNN Testing"
   ]
  },
  {
   "cell_type": "code",
   "execution_count": 46,
   "metadata": {},
   "outputs": [],
   "source": [
    "model = Sequential()\n",
    "model.add(Conv2D(16, (3, 3), activation='relu', kernel_initializer='he_normal', input_shape=(200, 200, 3))) # 200 * 200\n",
    "model.add(BatchNormalization())\n",
    "model.add(Conv2D(16, (3, 3), activation=\"relu\", kernel_initializer='he_normal')) # 198 * 198\n",
    "model.add(BatchNormalization())\n",
    "model.add(Conv2D(16, (3, 3), activation=\"relu\", kernel_initializer='he_normal')) # 196 * 196\n",
    "model.add(BatchNormalization())\n",
    "model.add(Conv2D(16, (3, 3), activation=\"relu\", kernel_initializer='he_normal')) # 194 * 194\n",
    "model.add(BatchNormalization())\n",
    "model.add(Conv2D(16, (3, 3), activation=\"relu\", kernel_initializer='he_normal')) # 192 * 192\n",
    "model.add(BatchNormalization())\n",
    "model.add(MaxPooling2D((2, 2))) # 96 * 96\n",
    "\n",
    "model.add(Conv2D(16, (3,3), activation = \"relu\", kernel_initializer='he_normal')) # 94 * 94\n",
    "model.add(BatchNormalization())\n",
    "model.add(Conv2D(16, (3,3), activation = \"relu\", kernel_initializer='he_normal')) # 92 * 92\n",
    "model.add(BatchNormalization())\n",
    "model.add(MaxPooling2D((2, 2))) # 46 * 46\n",
    "\n",
    "model.add(Conv2D(16, (3,3), activation = \"relu\", kernel_initializer='he_normal')) # 44 * 44\n",
    "model.add(BatchNormalization())\n",
    "model.add(Conv2D(16, (3,3), activation = \"relu\", kernel_initializer='he_normal')) # 42 * 42\n",
    "model.add(BatchNormalization())\n",
    "model.add(MaxPooling2D((2, 2))) # 21 * 21\n",
    "\n",
    "model.add(Flatten())\n",
    "model.add(Dense(50, activation = \"relu\", kernel_initializer='he_normal'))\n",
    "model.add(Dense(1, activation = \"sigmoid\"))"
   ]
  },
  {
   "cell_type": "code",
   "execution_count": 47,
   "metadata": {},
   "outputs": [],
   "source": [
    "model.compile(loss='binary_crossentropy', metrics=['accuracy'], optimizer=Adam())"
   ]
  },
  {
   "cell_type": "code",
   "execution_count": 48,
   "metadata": {},
   "outputs": [],
   "source": [
    "model.load_weights(\"cnn_acc77_batchnorm.hd5\")"
   ]
  },
  {
   "cell_type": "code",
   "execution_count": 50,
   "metadata": {},
   "outputs": [
    {
     "data": {
      "text/plain": [
       "'/home/ubunt/3-2/Unstructured/project/script'"
      ]
     },
     "execution_count": 50,
     "metadata": {},
     "output_type": "execute_result"
    }
   ],
   "source": [
    "import os\n",
    "os.getcwd()"
   ]
  },
  {
   "cell_type": "code",
   "execution_count": 51,
   "metadata": {},
   "outputs": [],
   "source": [
    "folder_path = '/home/ubunt/3-2/Unstructured/project/data/final_test/image/*'"
   ]
  },
  {
   "cell_type": "code",
   "execution_count": 64,
   "metadata": {},
   "outputs": [],
   "source": [
    "#####1000폴더 6000장 기준 8초 소요 \n",
    "dataset=[] ###모든 이미지가 저장됨(폴더구분없이)\n",
    "\n",
    "for image_path in sorted(glob.glob(folder_path + \"*\")): #####각 라벨 폴더에서 이미지 가져오가 \n",
    "    im = imageio.imread(image_path)\n",
    "    dataset.append(im)\n",
    "\n",
    "dataset = np.array(dataset)"
   ]
  },
  {
   "cell_type": "code",
   "execution_count": 69,
   "metadata": {
    "scrolled": true
   },
   "outputs": [],
   "source": [
    "pred = model.predict_classes(dataset)"
   ]
  },
  {
   "cell_type": "markdown",
   "metadata": {},
   "source": [
    "#### 의외로 가사보다는 이미지에서 힙합을 더 잘 맞추었다."
   ]
  },
  {
   "cell_type": "code",
   "execution_count": 70,
   "metadata": {},
   "outputs": [
    {
     "data": {
      "text/plain": [
       "0.79"
      ]
     },
     "execution_count": 70,
     "metadata": {},
     "output_type": "execute_result"
    }
   ],
   "source": [
    "accuracy_score(label, pred)"
   ]
  },
  {
   "cell_type": "markdown",
   "metadata": {},
   "source": [
    "# 결론.\n",
    "\n",
    "### 우선 가지고있는 데이터 8000개로 도출할 수 있는 결론은 이미지는 분류에 효과가 있었고 텍스트는 그렇지 않았습니다.\n",
    "\n",
    "### 군집화는 2개의 군집을 할당해도 장르별로 묶이는 것 보다는 영어와 한글로 묶이는 경향이 보였습니다.\n",
    "\n",
    "### 물론 최종 예측 데이터 100개가 힙합이 빡센 힙합이 아니라는점에서 유의미한 결론은 아니라고 할 수 있습니다.\n",
    "\n",
    "### 추가사항으로 힙합에도 정말 빡센 힙합, 발라드성 힙합이 존재하는데 만약 train data를 십만개 단위로 늘려서\n",
    "\n",
    "### 보다 더 많은 과정을 담을 수 있다면 더 좋은 성능이 나올 것으로 기대됩니다."
   ]
  }
 ],
 "metadata": {
  "kernelspec": {
   "display_name": "Python 3",
   "language": "python",
   "name": "python3"
  },
  "language_info": {
   "codemirror_mode": {
    "name": "ipython",
    "version": 3
   },
   "file_extension": ".py",
   "mimetype": "text/x-python",
   "name": "python",
   "nbconvert_exporter": "python",
   "pygments_lexer": "ipython3",
   "version": "3.6.5"
  }
 },
 "nbformat": 4,
 "nbformat_minor": 2
}
