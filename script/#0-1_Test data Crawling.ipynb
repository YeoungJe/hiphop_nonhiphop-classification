{
 "cells": [
  {
   "cell_type": "code",
   "execution_count": 1,
   "metadata": {},
   "outputs": [],
   "source": [
    "import requests\n",
    "import lxml.html\n",
    "import time\n",
    "from random import *\n",
    "import pandas as pd\n",
    "import re\n",
    "from PIL import Image\n",
    "import matplotlib.pylab as plt\n",
    "%matplotlib inline"
   ]
  },
  {
   "cell_type": "markdown",
   "metadata": {},
   "source": [
    "# [제목 추출]"
   ]
  },
  {
   "cell_type": "code",
   "execution_count": 38,
   "metadata": {},
   "outputs": [
    {
     "data": {
      "text/plain": [
       "200"
      ]
     },
     "execution_count": 38,
     "metadata": {},
     "output_type": "execute_result"
    }
   ],
   "source": [
    "url = 'https://music.bugs.co.kr/chart/track/week/total?chartdate=20181010'\n",
    "res = requests.get(url, headers = {'user-agent' : 'Mozilla/5.0 (X11; Ubuntu; Linux x86_64; rv:63.0) Gecko/20100101 Firefox/63.0'})\n",
    "res.status_code"
   ]
  },
  {
   "cell_type": "code",
   "execution_count": 39,
   "metadata": {},
   "outputs": [
    {
     "data": {
      "text/plain": [
       "'삐삐'"
      ]
     },
     "execution_count": 39,
     "metadata": {},
     "output_type": "execute_result"
    }
   ],
   "source": [
    "element = lxml.html.fromstring(res.text)\n",
    "heading = element.cssselect('p.title a')\n",
    "title = heading[0].text_content()\n",
    "title"
   ]
  },
  {
   "cell_type": "code",
   "execution_count": 43,
   "metadata": {},
   "outputs": [
    {
     "data": {
      "text/plain": [
       "100"
      ]
     },
     "execution_count": 43,
     "metadata": {},
     "output_type": "execute_result"
    }
   ],
   "source": [
    "len(title)"
   ]
  },
  {
   "cell_type": "code",
   "execution_count": 40,
   "metadata": {},
   "outputs": [],
   "source": [
    "title = []\n",
    "for head in heading :\n",
    "    title.append(head.text_content())"
   ]
  },
  {
   "cell_type": "markdown",
   "metadata": {},
   "source": [
    "# [가수 추출]"
   ]
  },
  {
   "cell_type": "code",
   "execution_count": 41,
   "metadata": {},
   "outputs": [
    {
     "data": {
      "text/plain": [
       "'아이유(IU)'"
      ]
     },
     "execution_count": 41,
     "metadata": {},
     "output_type": "execute_result"
    }
   ],
   "source": [
    "tmp = element.cssselect('p.artist')\n",
    "singer = re.sub(r'\\s',\"\",tmp[0].text_content())\n",
    "singer"
   ]
  },
  {
   "cell_type": "code",
   "execution_count": 42,
   "metadata": {},
   "outputs": [
    {
     "data": {
      "text/plain": [
       "100"
      ]
     },
     "execution_count": 42,
     "metadata": {},
     "output_type": "execute_result"
    }
   ],
   "source": [
    "len(tmp)"
   ]
  },
  {
   "cell_type": "code",
   "execution_count": 44,
   "metadata": {},
   "outputs": [],
   "source": [
    "singer = []\n",
    "for sing in tmp :\n",
    "    singer.append(re.sub(r'\\s',\"\",sing.text_content()))"
   ]
  },
  {
   "cell_type": "code",
   "execution_count": 45,
   "metadata": {
    "scrolled": true
   },
   "outputs": [
    {
     "data": {
      "text/plain": [
       "['아이유(IU)',\n",
       " '로꼬',\n",
       " 'pH-1pH-1',\n",
       " '임창정',\n",
       " '소유(SOYOU)소유(SOYOU)',\n",
       " '바이브(Vibe)',\n",
       " 'iKON',\n",
       " 'CoogieCoogie',\n",
       " '선미',\n",
       " '황치열',\n",
       " '슬기(SEULGI)슬기(SEULGI)',\n",
       " '로이킴',\n",
       " '숀(SHAUN)',\n",
       " '정승환',\n",
       " '김민석',\n",
       " '벤',\n",
       " '폴킴(PaulKim)',\n",
       " '펀치(Punch)',\n",
       " '기리보이기리보이',\n",
       " '저스디스(JUSTHIS)저스디스(JUSTHIS)',\n",
       " '오마이걸(OHMYGIRL)',\n",
       " '방탄소년단',\n",
       " 'BLACKPINK',\n",
       " 'HAON(김하온)',\n",
       " 'pH-1',\n",
       " '(여자)아이들',\n",
       " 'RedVelvet(레드벨벳)',\n",
       " 'TWICE(트와이스)',\n",
       " '10cm(십센치)',\n",
       " '스탠딩에그(StandingEgg)',\n",
       " '박원',\n",
       " '김효은김효은',\n",
       " '멜로망스(MeloMance)',\n",
       " '승리',\n",
       " '소녀시대-Oh!GG',\n",
       " '폴킴(PaulKim)',\n",
       " '우주소녀',\n",
       " '나플라(nafla)나플라(nafla)',\n",
       " '로이킴',\n",
       " '볼빨간사춘기',\n",
       " '닐로(Nil_O)',\n",
       " '마마무(Mamamoo)',\n",
       " '모트(Motte)',\n",
       " 'BLACKPINK',\n",
       " '아이유(IU)',\n",
       " '지코(Zico)',\n",
       " '10cm(십센치)',\n",
       " '양다일',\n",
       " 'Apink(에이핑크)',\n",
       " '멜로망스(MeloMance)',\n",
       " '로이킴',\n",
       " 'iKON',\n",
       " 'CharliePuth(찰리푸스)CharliePuth(찰리푸스)',\n",
       " 'iKON',\n",
       " '청하',\n",
       " '바이브(Vibe)',\n",
       " '백지영',\n",
       " '태연(TAEYEON)태연(TAEYEON)',\n",
       " '로꼬로꼬',\n",
       " '방탄소년단',\n",
       " 'GOT7(갓세븐)',\n",
       " '멜로망스(MeloMance)',\n",
       " '로꼬로꼬',\n",
       " 'TroyeSivan(트로이시반)',\n",
       " '방탄소년단',\n",
       " '먼데이키즈(MondayKiz)',\n",
       " 'Fitz&TheTantrums',\n",
       " 'EdSheeran(에드시런)',\n",
       " '우원재',\n",
       " 'NCT127',\n",
       " '방탄소년단',\n",
       " 'CamilaCabello(카밀라카베요)',\n",
       " '장덕철',\n",
       " '비투비',\n",
       " '여자친구(GFRIEND)',\n",
       " '닐로(Nil_O)',\n",
       " '청하',\n",
       " '휘성(Realslow)',\n",
       " '멜로망스(MeloMance)',\n",
       " '(여자)아이들',\n",
       " 'ImagineDragons(이매진드래곤스)',\n",
       " '모모랜드(MOMOLAND)',\n",
       " 'Sia(시아)',\n",
       " '에일리(Ailee)',\n",
       " '10cm(십센치)',\n",
       " '방탄소년단',\n",
       " 'TWICE(트와이스)',\n",
       " '크러쉬(Crush)',\n",
       " '모모랜드(MOMOLAND)',\n",
       " '헤이즈(HEIZE)',\n",
       " '에피톤프로젝트(EpitoneProject)',\n",
       " '이수현',\n",
       " '로시(Rothy)',\n",
       " '프로미스나인',\n",
       " '박원',\n",
       " '이수',\n",
       " '다비치',\n",
       " 'HAON(김하온)',\n",
       " '황치열',\n",
       " '박재범(JayPark)']"
      ]
     },
     "execution_count": 45,
     "metadata": {},
     "output_type": "execute_result"
    }
   ],
   "source": [
    "singer"
   ]
  },
  {
   "cell_type": "markdown",
   "metadata": {},
   "source": [
    "# [가사 추출]"
   ]
  },
  {
   "cell_type": "code",
   "execution_count": 51,
   "metadata": {},
   "outputs": [
    {
     "data": {
      "text/plain": [
       "'https://music.bugs.co.kr/track/31264762?wl_ref=list_tr_08_chart'"
      ]
     },
     "execution_count": 51,
     "metadata": {},
     "output_type": "execute_result"
    }
   ],
   "source": [
    "tmp_link = element.cssselect('td a.trackInfo')\n",
    "lyric_link = tmp_link[0].attrib['href']\n",
    "lyric_link"
   ]
  },
  {
   "cell_type": "code",
   "execution_count": 52,
   "metadata": {},
   "outputs": [
    {
     "name": "stdout",
     "output_type": "stream",
     "text": [
      "200\n"
     ]
    }
   ],
   "source": [
    "url = lyric_link\n",
    "res = requests.get(url, headers = {'user-agent' : 'Mozilla/5.0 (X11; Ubuntu; Linux x86_64; rv:63.0) Gecko/20100101 Firefox/63.0'})\n",
    "print(res.status_code)"
   ]
  },
  {
   "cell_type": "code",
   "execution_count": 53,
   "metadata": {},
   "outputs": [
    {
     "data": {
      "text/plain": [
       "\"Hi there 인사해 호들갑 없이\\r\\n시작해요 서론 없이\\r\\n스킨십은 사양할게요\\r\\nBack off back off\\r\\n이대로 좋아요\\r\\nBalance balance\\r\\nIt's me 나예요 다를 거 없이\\r\\n요즘엔 뭔가요 내 가십\\r\\n탐색하는 불빛\\r\\nScanner scanner\\r\\n오늘은 몇 점인가요?\\r\\nJealous jealous\\r\\n쟤는 대체 왜 저런 옷을 좋아한담?\\r\\n기분을 알 수 없는 저 표정은 뭐람?\\r\\n태가 달라진 건\\r\\n아마 스트레스 때문인가?\\r\\n걱정이야 쟤도 참\\r\\nYellow C A R D\\r\\n이 선 넘으면 침범이야 Beep\\r\\n매너는 여기까지\\r\\nIt's ma ma ma mine\\r\\nPlease keep the la la la line\\r\\nHello stuP I D\\r\\n그 선 넘으면 정색이야 Beep\\r\\nStop it 거리 유지해\\r\\nCause we don't know know know know\\r\\nComma we don't owe owe owe owe\\r\\n(Anything)\\r\\nI don't care 당신의 비밀이 뭔지\\r\\n저마다의 사정 역시\\r\\n정중히 사양할게요 Not my business\\r\\n이대로 좋아요 Talk talkless\\r\\nStill me 또예요 놀랄 거 없이\\r\\nI'm sure you're gonna say my gosh\\r\\n바빠지는 눈빛 Checki cheking\\r\\n매일 틀린 그림 찾기 Hash tagging\\r\\n꼿꼿하게 걷다가 삐끗 넘어질라\\r\\n다들 수군대는 걸 자긴 아나 몰라\\r\\n요새 말이 많은 걔랑 어울린다나?\\r\\n문제야 쟤도 참\\r\\nYellow C A R D\\r\\n이 선 넘으면 침범이야 Beep\\r\\n매너는 여기까지\\r\\nIt's ma ma ma mine\\r\\nPlease keep the la la la line\\r\\nHello stuP I D\\r\\n그 선 넘으면 정색이야 Beep\\r\\nStop it 거리 유지해\\r\\nCause we don't know know know know\\r\\nComma we don't owe owe owe owe\\r\\n(Anything)\\r\\n편하게 하지 뭐\\r\\n어 거기 너 내 말 알아 들어? 어?\\r\\nI don't believe it\\r\\n에이 아직 모를 걸\\r\\n내 말 틀려? 또 나만 나뻐? 어?\\r\\nI don't believe it\\r\\n깜빡이 켜 교양이 없어 너\\r\\nKnock knock knock\\r\\nEnough 더 상대 안 해\\r\\nBlock block block block block\\r\\n잘 모르겠으면 이젠 좀 외워 Babe\\r\\nRepeat repeat\\r\\n참 쉽지 Right\\r\\nYellow C A R D\\r\\n이 선 넘으면 침범이야 Beep\\r\\n매너는 여기까지\\r\\nIt's ma ma ma mine\\r\\nPlease keep the la la la line\\r\\nHello stuP I D\\r\\n그 선 넘으면 정색이야 Beep\\r\\nStop it 거리 유지해\\r\\nCause we don't know know know know\\r\\nComma we don't owe owe owe owe\\r\\n(Anything)\""
      ]
     },
     "execution_count": 53,
     "metadata": {},
     "output_type": "execute_result"
    }
   ],
   "source": [
    "element = lxml.html.fromstring(res.text)\n",
    "tmp = element.cssselect('div.lyricsContainer xmp')\n",
    "tmp_lyric = tmp[0].text_content()\n",
    "tmp_lyric"
   ]
  },
  {
   "cell_type": "code",
   "execution_count": 11,
   "metadata": {
    "scrolled": false
   },
   "outputs": [
    {
     "data": {
      "text/plain": [
       "\"Hi there 인사해 호들갑 없이  시작해요 서론 없이  스킨십은 사양할게요  Back off back off  이대로 좋아요  Balance balance  It's me 나예요 다를 거 없이  요즘엔 뭔가요 내 가십  탐색하는 불빛  Scanner scanner  오늘은 몇 점인가요?  Jealous jealous  쟤는 대체 왜 저런 옷을 좋아한담?  기분을 알 수 없는 저 표정은 뭐람?  태가 달라진 건  아마 스트레스 때문인가?  걱정이야 쟤도 참  Yellow C A R D  이 선 넘으면 침범이야 Beep  매너는 여기까지  It's ma ma ma mine  Please keep the la la la line  Hello stuP I D  그 선 넘으면 정색이야 Beep  Stop it 거리 유지해  Cause we don't know know know know  Comma we don't owe owe owe owe  (Anything)  I don't care 당신의 비밀이 뭔지  저마다의 사정 역시  정중히 사양할게요 Not my business  이대로 좋아요 Talk talkless  Still me 또예요 놀랄 거 없이  I'm sure you're gonna say my gosh  바빠지는 눈빛 Checki cheking  매일 틀린 그림 찾기 Hash tagging  꼿꼿하게 걷다가 삐끗 넘어질라  다들 수군대는 걸 자긴 아나 몰라  요새 말이 많은 걔랑 어울린다나?  문제야 쟤도 참  Yellow C A R D  이 선 넘으면 침범이야 Beep  매너는 여기까지  It's ma ma ma mine  Please keep the la la la line  Hello stuP I D  그 선 넘으면 정색이야 Beep  Stop it 거리 유지해  Cause we don't know know know know  Comma we don't owe owe owe owe  (Anything)  편하게 하지 뭐  어 거기 너 내 말 알아 들어? 어?  I don't believe it  에이 아직 모를 걸  내 말 틀려? 또 나만 나뻐? 어?  I don't believe it  깜빡이 켜 교양이 없어 너  Knock knock knock  Enough 더 상대 안 해  Block block block block block  잘 모르겠으면 이젠 좀 외워 Babe  Repeat repeat  참 쉽지 Right  Yellow C A R D  이 선 넘으면 침범이야 Beep  매너는 여기까지  It's ma ma ma mine  Please keep the la la la line  Hello stuP I D  그 선 넘으면 정색이야 Beep  Stop it 거리 유지해  Cause we don't know know know know  Comma we don't owe owe owe owe  (Anything)\""
      ]
     },
     "execution_count": 11,
     "metadata": {},
     "output_type": "execute_result"
    }
   ],
   "source": [
    "lyric = re.sub(r'\\s',\" \",tmp_lyric)\n",
    "lyric"
   ]
  },
  {
   "cell_type": "code",
   "execution_count": 55,
   "metadata": {},
   "outputs": [],
   "source": [
    "lyric = []\n",
    "for link in tmp_link :\n",
    "    url = link.attrib['href']\n",
    "    res = requests.get(url, headers = {'user-agent' : 'Mozilla/5.0 (X11; Ubuntu; Linux x86_64; rv:63.0) Gecko/20100101 Firefox/63.0'})\n",
    "    element = lxml.html.fromstring(res.text)\n",
    "    tmp = element.cssselect('div.lyricsContainer xmp')\n",
    "    tmp_lyric = tmp[0].text_content()\n",
    "    lyric.append(re.sub(r'\\s',\" \",tmp_lyric))"
   ]
  },
  {
   "cell_type": "markdown",
   "metadata": {},
   "source": [
    "# [이미지 추출]"
   ]
  },
  {
   "cell_type": "code",
   "execution_count": 63,
   "metadata": {},
   "outputs": [],
   "source": [
    "image_path = '/home/ubunt/3-2/Unstructured/project/data/final_test/{}/'.format(\"image\")"
   ]
  },
  {
   "cell_type": "code",
   "execution_count": 77,
   "metadata": {
    "scrolled": true
   },
   "outputs": [],
   "source": [
    "cnt = 0\n",
    "for link in tmp_link :\n",
    "    url = link.attrib['href']\n",
    "    res = requests.get(url, headers = {'user-agent' : 'Mozilla/5.0 (X11; Ubuntu; Linux x86_64; rv:63.0) Gecko/20100101 Firefox/63.0'})\n",
    "    element = lxml.html.fromstring(res.text)\n",
    "    images = element.cssselect('li.big a img')\n",
    "\n",
    "    res = requests.get(images[0].attrib['src'])\n",
    "    with open(image_path + 'cover{}.jpg'.format(cnt), 'wb') as f:\n",
    "        f.write(res.content)\n",
    "        cnt += 1"
   ]
  },
  {
   "cell_type": "code",
   "execution_count": 67,
   "metadata": {},
   "outputs": [
    {
     "data": {
      "text/plain": [
       "'https://image.bugsm.co.kr/album/images/200/201931/20193122.jpg?version=20181031134343.0'"
      ]
     },
     "execution_count": 67,
     "metadata": {},
     "output_type": "execute_result"
    }
   ],
   "source": [
    "element = lxml.html.fromstring(res.text)\n",
    "images = element.cssselect('li.big a img')\n",
    "images[0].attrib['src']"
   ]
  },
  {
   "cell_type": "code",
   "execution_count": 68,
   "metadata": {},
   "outputs": [],
   "source": [
    "cnt = 0\n",
    "res = requests.get(images[0].attrib['src'])\n",
    "with open(image_path + 'cover{}.jpg'.format(cnt), 'wb') as f:\n",
    "    f.write(res.content)\n",
    "cnt += 1"
   ]
  },
  {
   "cell_type": "code",
   "execution_count": 88,
   "metadata": {},
   "outputs": [],
   "source": [
    "label = [\"else\",\"hiphop\",\"hiphop\",\"else\",\"else\",\"else\",\"else\",\"hiphop\",\"else\",\"else\",\n",
    "         \"else\",\"else\",\"else\",\"else\",\"else\",\"else\",\"else\",\"else\",\"hiphop\",\"hiphop\",\n",
    "         \"else\",\"else\",\"else\",\"hiphop\",\"hiphop\",\"else\",\"else\",\"else\",\"else\",\"else\",\n",
    "        \"else\",\"hiphop\",\"else\",\"else\",\"else\",\"else\",\"else\",\"hiphop\",\"else\",\"else\",\n",
    "         \"else\",\"else\",\"else\",\"else\",\"else\",\"hiphop\",\"else\",\"else\",\"else\",\"else\",\n",
    "         \"else\",\"else\",\"else\",\"else\",\"else\",\"else\",\"else\",\"else\",\"hiphop\",\"else\",\n",
    "         \"else\",\"else\",\"hiphop\",\"else\",\"else\",\"else\",\"else\",\"else\",\"hiphop\", \"else\",\n",
    "         \"else\",\"else\",\"else\",\"else\",\"else\",\"else\",\"else\",\"else\",\"else\",\"else\",\n",
    "         \"else\",\"else\",\"else\",\"else\",\"else\",\"else\",\"else\",\"else\",\"else\",\"else\",\n",
    "         \"else\",\"else\",\"else\",\"else\",\"else\",\"else\",\"else\",\"hiphop\",\"else\",\"hiphop\"]"
   ]
  },
  {
   "cell_type": "code",
   "execution_count": 89,
   "metadata": {},
   "outputs": [],
   "source": [
    "finalTest_csv_path = '/home/ubunt/3-2/Unstructured/project/data/final_test/'"
   ]
  },
  {
   "cell_type": "code",
   "execution_count": 91,
   "metadata": {},
   "outputs": [],
   "source": [
    "final_test_csv = pd.DataFrame({'title' : title,'singer' : singer, 'lyric' : lyric, 'label' : label})"
   ]
  },
  {
   "cell_type": "code",
   "execution_count": 92,
   "metadata": {},
   "outputs": [],
   "source": [
    "def removeNan(x) :\n",
    "    print(\"제거된 NaN 값의 개수 : \",sum(x['lyric'].isna() == True))\n",
    "    x = x[x['lyric'].isna() == False]\n",
    "    return(x)\n",
    "\n",
    "def removeEtc(x) :\n",
    "    for i in range(x.shape[0]) :\n",
    "        x['lyric'][i] = re.sub(r'[^a-zA-Z가-힣0-9 ]',\"\",x['lyric'][i])\n",
    "        x['lyric'][i] = re.sub(r' {2,}',\"\",x['lyric'][i])\n",
    "    return(x)"
   ]
  },
  {
   "cell_type": "code",
   "execution_count": 93,
   "metadata": {},
   "outputs": [
    {
     "name": "stdout",
     "output_type": "stream",
     "text": [
      "제거된 NaN 값의 개수 :  0\n"
     ]
    }
   ],
   "source": [
    "final_test_csv = removeNan(final_test_csv)"
   ]
  },
  {
   "cell_type": "code",
   "execution_count": 94,
   "metadata": {},
   "outputs": [],
   "source": [
    "final_test_csv = removeEtc(final_test_csv)"
   ]
  },
  {
   "cell_type": "code",
   "execution_count": 95,
   "metadata": {},
   "outputs": [],
   "source": [
    "final_test_csv.to_csv(\"final_test.csv\")"
   ]
  },
  {
   "cell_type": "code",
   "execution_count": null,
   "metadata": {},
   "outputs": [],
   "source": []
  }
 ],
 "metadata": {
  "kernelspec": {
   "display_name": "Python 3",
   "language": "python",
   "name": "python3"
  },
  "language_info": {
   "codemirror_mode": {
    "name": "ipython",
    "version": 3
   },
   "file_extension": ".py",
   "mimetype": "text/x-python",
   "name": "python",
   "nbconvert_exporter": "python",
   "pygments_lexer": "ipython3",
   "version": "3.6.5"
  }
 },
 "nbformat": 4,
 "nbformat_minor": 2
}
